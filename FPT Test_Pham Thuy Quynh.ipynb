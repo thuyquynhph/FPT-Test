{
 "cells": [
  {
   "cell_type": "code",
   "execution_count": 2,
   "id": "f8f80225",
   "metadata": {},
   "outputs": [],
   "source": [
    "import ast\n",
    "import pandas as pd\n",
    "\n",
    "path_to_file = ['logt21.txt', 'logt22.txt', 'logt23.txt', 'logt24.txt', 'logt25.txt', 'logt31.txt', 'logt32.txt']\n",
    "name = ['21','22','23','24','25','31','32']\n",
    "for f,g in zip(path_to_file, name):\n",
    "    with open(f, 'r') as file:\n",
    "        # Đọc nội dung và chuyển đổi thành đối tượng Python bằng ast.literal_eval\n",
    "        content = file.read()\n",
    "        data_list = [ast.literal_eval(line) for line in content.split('\\n') if line.strip()]\n",
    "        df = pd.DataFrame(data_list)\n",
    "        df = df[['Mac','SessionMainMenu','AppName','LogId','Event','ItemId','RealTimePlaying']]\n",
    "        # Lưu DataFrame thành tập tin CSV với dấu tab làm phân tách\n",
    "        df_1 = df.to_csv('{0}.csv'.format(g), sep='\\t', index=False)"
   ]
  },
  {
   "cell_type": "code",
   "execution_count": 3,
   "id": "5b90ce80",
   "metadata": {},
   "outputs": [
    {
     "name": "stdout",
     "output_type": "stream",
     "text": [
      "Tất cả các file đã được di chuyển hoặc sao chép vào thư mục my_folder\n"
     ]
    }
   ],
   "source": [
    "# Tạo folder chứa các file CSV mới tạo bên trên\n",
    "\n",
    "import os\n",
    "import shutil\n",
    "\n",
    "# Tạo thư mục rỗng mới\n",
    "folder_path = 'my_folder'\n",
    "os.makedirs(folder_path, exist_ok=True)\n",
    "\n",
    "# Đường dẫn đến các file CSV\n",
    "csv_files = ['21.csv','22.csv','23.csv','24.csv','25.csv','31.csv','32.csv']\n",
    "\n",
    "# Di chuyển hoặc sao chép các file vào thư mục đích\n",
    "for file_path in csv_files:\n",
    "    file_name = os.path.basename(file_path)\n",
    "    target_path = os.path.join(folder_path, file_name)\n",
    "    shutil.copy(file_path, target_path)\n",
    "\n",
    "print(f'Tất cả các file đã được di chuyển hoặc sao chép vào thư mục {folder_path}')"
   ]
  },
  {
   "cell_type": "code",
   "execution_count": 4,
   "id": "ccf0e04b",
   "metadata": {},
   "outputs": [
    {
     "name": "stdout",
     "output_type": "stream",
     "text": [
      "                 Mac                       SessionMainMenu AppName  LogId  \\\n",
      "0       B046FCAC0DC1  B046FCAC0DC1:2016:02:12:12:35:13:437     VOD     52   \n",
      "1       B046FCAC0DC1  B046FCAC0DC1:2016:02:11:01:01:56:838    IPTV     40   \n",
      "2       B046FCAC0DC1  B046FCAC0DC1:2016:02:11:01:02:29:258     VOD     55   \n",
      "3       B046FCAC0DC1  B046FCAC0DC1:2016:02:12:04:44:59:143    IPTV     18   \n",
      "4       B046FCAC0DC1  B046FCAC0DC1:2016:02:12:12:35:13:437     VOD     54   \n",
      "...              ...                                   ...     ...    ...   \n",
      "914055  B046FCAD1DE8  B046FCAD1DE8:2016:03:11:14:34:33:670    IPTV     42   \n",
      "914056  B046FCAD1DE8   B046FCAD1DE8:2016:03:11:18:41:56:10     VOD     57   \n",
      "914057  B046FCAD1DE8   B046FCAD1DE8:2016:03:11:18:41:56:10     VOD     57   \n",
      "914058  B046FCAD1DE8  B046FCAD1DE8:2016:03:11:14:34:07:196     VOD     18   \n",
      "914059  B046FCAD1DE8   B046FCAD1DE8:2016:03:11:18:41:56:10     VOD     53   \n",
      "\n",
      "                 Event     ItemId  RealTimePlaying  \n",
      "0              StopVOD  100052388          570.300  \n",
      "1            EnterIPTV        NaN              NaN  \n",
      "2              NextVOD  100052388              NaN  \n",
      "3         ChangeModule        NaN              NaN  \n",
      "4              PlayVOD  100052388              NaN  \n",
      "...                ...        ...              ...  \n",
      "914055     StopChannel        175         1412.898  \n",
      "914056  EnterFolderVOD          1              NaN  \n",
      "914057  EnterFolderVOD          1              NaN  \n",
      "914058    ChangeModule        NaN              NaN  \n",
      "914059        PauseVOD  100054410              NaN  \n",
      "\n",
      "[914060 rows x 7 columns]\n"
     ]
    }
   ],
   "source": [
    "# Concat 7 file CSV trong folder trên thành 1 file\n",
    "\n",
    "# Lấy đường dẫn thư mục làm việc hiện tại\n",
    "project_folder = os.getcwd()\n",
    "\n",
    "# Kết hợp đường dẫn với tên thư mục chứa tệp tin CSV\n",
    "folder_path = os.path.join(project_folder, 'my_folder')\n",
    "\n",
    "# Lấy danh sách tất cả các tệp tin CSV trong thư mục\n",
    "csv_files = [f for f in os.listdir(folder_path) if f.endswith('.csv')]\n",
    "\n",
    "# Đọc từng tệp tin CSV và lưu vào một danh sách các DataFrame\n",
    "dfs = [pd.read_csv(os.path.join(folder_path, file)) for file in csv_files]\n",
    "\n",
    "# Nối các DataFrame thành một DataFrame lớn\n",
    "concatenated_df = pd.concat(dfs, ignore_index=True)\n",
    "\n",
    "# Ghi DataFrame lớn thành một tệp tin CSV mới\n",
    "CSV_combined = concatenated_df.to_csv('combined_file.csv', index=False)\n",
    "\n",
    "# Chuyển file CSV thành DataFrame\n",
    "concatenated_df_1 = pd.read_csv('combined_file.csv', sep='\\t')\n",
    "print(concatenated_df_1)"
   ]
  },
  {
   "cell_type": "code",
   "execution_count": 5,
   "id": "9270a27b",
   "metadata": {},
   "outputs": [
    {
     "name": "stdout",
     "output_type": "stream",
     "text": [
      "                   MAC  # of days\n",
      "0     FBOXB046FCB79E0B         20\n",
      "1     FBOXB046FCB3528B        181\n",
      "2     FBOXB046FCAAFB73        426\n",
      "3     FBOXB046FCAAFB72        426\n",
      "4     FBOXB046FCAA2085        429\n",
      "...                ...        ...\n",
      "2687  FBOXB046FCB1E443        279\n",
      "2688  FBOX001C5500EDDC        810\n",
      "2689  FBOXB046FCB257C8        228\n",
      "2690  FBOXB046FCAB0028        474\n",
      "2691  FBOXB046FCAD86DD        349\n",
      "\n",
      "[2692 rows x 2 columns]\n"
     ]
    }
   ],
   "source": [
    "# Đọc file user_info.txt\n",
    "\n",
    "# Đường dẫn của file văn bản (txt)\n",
    "path_to_file_1 = 'user_info.txt'\n",
    "\n",
    "# Đọc file văn bản và chuyển thành DataFrame\n",
    "df5 = pd.read_csv(path_to_file_1, delimiter='\\t')\n",
    "\n",
    "# Hiển thị DataFrame\n",
    "print(df5)"
   ]
  },
  {
   "cell_type": "code",
   "execution_count": 6,
   "id": "c24f45ac",
   "metadata": {},
   "outputs": [
    {
     "name": "stdout",
     "output_type": "stream",
     "text": [
      "               Mac  # of days\n",
      "0     B046FCB79E0B         20\n",
      "1     B046FCB3528B        181\n",
      "2     B046FCAAFB73        426\n",
      "3     B046FCAAFB72        426\n",
      "4     B046FCAA2085        429\n",
      "...            ...        ...\n",
      "2687  B046FCB1E443        279\n",
      "2688  001C5500EDDC        810\n",
      "2689  B046FCB257C8        228\n",
      "2690  B046FCAB0028        474\n",
      "2691  B046FCAD86DD        349\n",
      "\n",
      "[2692 rows x 2 columns]\n"
     ]
    }
   ],
   "source": [
    "# Chuyển đổi cột MAC trong df5 bằng cách xóa 4 ký tự đầu tiên và đổi tên cột thành \"Mac\"\n",
    "df5['MAC'] = df5['MAC'].replace(to_replace=r'^FBOX', value='', regex=True)\n",
    "df5.rename(columns={'MAC': 'Mac'}, inplace=True)\n",
    "\n",
    "# Hiển thị DataFrame sau khi chuyển đổi\n",
    "print(df5)"
   ]
  },
  {
   "cell_type": "code",
   "execution_count": 7,
   "id": "6388d832",
   "metadata": {
    "scrolled": true
   },
   "outputs": [
    {
     "name": "stdout",
     "output_type": "stream",
     "text": [
      "                  Mac                       SessionMainMenu AppName  LogId  \\\n",
      "0        B046FCAC0DC1  B046FCAC0DC1:2016:02:12:12:35:13:437     VOD     52   \n",
      "1        B046FCAC0DC1  B046FCAC0DC1:2016:02:11:01:01:56:838    IPTV     40   \n",
      "2        B046FCAC0DC1  B046FCAC0DC1:2016:02:11:01:02:29:258     VOD     55   \n",
      "3        B046FCAC0DC1  B046FCAC0DC1:2016:02:12:04:44:59:143    IPTV     18   \n",
      "4        B046FCAC0DC1  B046FCAC0DC1:2016:02:12:12:35:13:437     VOD     54   \n",
      "...               ...                                   ...     ...    ...   \n",
      "1028786  B046FCAD1DE8  B046FCAD1DE8:2016:03:11:14:34:07:196     VOD     18   \n",
      "1028787  B046FCAD1DE8   B046FCAD1DE8:2016:03:11:18:41:56:10     VOD     53   \n",
      "1028788  B046FCAD1DE8   B046FCAD1DE8:2016:03:11:18:41:56:10     VOD     53   \n",
      "1028789  B046FCAD1DE8   B046FCAD1DE8:2016:03:11:18:41:56:10     VOD     53   \n",
      "1028790  B046FCAD1DE8   B046FCAD1DE8:2016:03:11:18:41:56:10     VOD     53   \n",
      "\n",
      "                Event     ItemId  RealTimePlaying  # of days  \n",
      "0             StopVOD  100052388            570.3        375  \n",
      "1           EnterIPTV        NaN              NaN        375  \n",
      "2             NextVOD  100052388              NaN        375  \n",
      "3        ChangeModule        NaN              NaN        375  \n",
      "4             PlayVOD  100052388              NaN        375  \n",
      "...               ...        ...              ...        ...  \n",
      "1028786  ChangeModule        NaN              NaN          0  \n",
      "1028787      PauseVOD  100054410              NaN         92  \n",
      "1028788      PauseVOD  100054410              NaN          3  \n",
      "1028789      PauseVOD  100054410              NaN         16  \n",
      "1028790      PauseVOD  100054410              NaN          0  \n",
      "\n",
      "[1028791 rows x 8 columns]\n"
     ]
    }
   ],
   "source": [
    "# Merge 2 DataFrame concatenated_df_1 và df5\n",
    "merged_df = pd.merge(concatenated_df_1, df5, on='Mac', how='left')\n",
    "print(merged_df)"
   ]
  },
  {
   "cell_type": "code",
   "execution_count": 8,
   "id": "d3792abb",
   "metadata": {},
   "outputs": [],
   "source": [
    "# Chuyển merged_df thành fiel CSV\n",
    "merged_df.to_csv('merged.csv', index=False)"
   ]
  }
 ],
 "metadata": {
  "kernelspec": {
   "display_name": "Python 3 (ipykernel)",
   "language": "python",
   "name": "python3"
  },
  "language_info": {
   "codemirror_mode": {
    "name": "ipython",
    "version": 3
   },
   "file_extension": ".py",
   "mimetype": "text/x-python",
   "name": "python",
   "nbconvert_exporter": "python",
   "pygments_lexer": "ipython3",
   "version": "3.10.9"
  }
 },
 "nbformat": 4,
 "nbformat_minor": 5
}
